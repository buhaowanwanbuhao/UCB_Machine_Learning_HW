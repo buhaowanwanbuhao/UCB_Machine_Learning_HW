{
 "cells": [
  {
   "cell_type": "code",
   "execution_count": null,
   "metadata": {},
   "outputs": [],
   "source": [
    "# Update sklearn to prevent version mismatches\n",
    "!conda install scikit-learn\n",
    "!conda update scikit-learn\n",
    "!conda install joblib \n",
    "!conda update joblib "
   ]
  },
  {
   "cell_type": "code",
   "execution_count": 15,
   "metadata": {},
   "outputs": [],
   "source": [
    "import pandas as pd\n",
    "from sklearn.preprocessing import MinMaxScaler\n",
    "from sklearn.metrics import accuracy_score\n",
    "import joblib\n",
    "from sklearn.preprocessing import LabelEncoder\n",
    "from keras.utils import to_categorical\n",
    "from keras.models import load_model"
   ]
  },
  {
   "cell_type": "code",
   "execution_count": 2,
   "metadata": {},
   "outputs": [],
   "source": [
    "# Import the testing csvs \n",
    "testing_df = pd.read_csv('test_data.csv')"
   ]
  },
  {
   "cell_type": "code",
   "execution_count": 9,
   "metadata": {},
   "outputs": [],
   "source": [
    "# Split the test data into X and y\n",
    "y_test = testing_df[\"koi_disposition\"]\n",
    "X_test = testing_df.drop(columns=[\"koi_disposition\"])"
   ]
  },
  {
   "cell_type": "code",
   "execution_count": 10,
   "metadata": {},
   "outputs": [],
   "source": [
    "# scale the data if the student did\n",
    "\n",
    "scaler = MinMaxScaler()\n",
    "X_test= scaler.fit_transform(X_test)"
   ]
  },
  {
   "cell_type": "code",
   "execution_count": 12,
   "metadata": {},
   "outputs": [],
   "source": [
    "# set your x_test to match the same variables that the student chose. \n",
    "# Can copy/paste their feature selection code. Just be sure to set it to X_test\n",
    "# X_test = X_test[[]]"
   ]
  },
  {
   "cell_type": "markdown",
   "metadata": {},
   "source": [
    "# Testing"
   ]
  },
  {
   "cell_type": "code",
   "execution_count": 13,
   "metadata": {},
   "outputs": [
    {
     "name": "stdout",
     "output_type": "stream",
     "text": [
      "0.8762122076440388\n"
     ]
    }
   ],
   "source": [
    "# load and score the student's model\n",
    "\n",
    "# update file name with student file\n",
    "filename = 'svm.sav'\n",
    "loaded_model = joblib.load(filename)\n",
    "\n",
    "result = loaded_model.score(X_test, y_test)\n",
    "print(result)"
   ]
  },
  {
   "cell_type": "markdown",
   "metadata": {},
   "source": [
    "# Deep Learning Testing"
   ]
  },
  {
   "cell_type": "code",
   "execution_count": 22,
   "metadata": {},
   "outputs": [
    {
     "name": "stdout",
     "output_type": "stream",
     "text": [
      "Predicted classes: ['CONFIRMED' 'CONFIRMED' 'FALSE POSITIVE' 'FALSE POSITIVE' 'CONFIRMED'\n",
      " 'CANDIDATE' 'CANDIDATE' 'FALSE POSITIVE' 'FALSE POSITIVE'\n",
      " 'FALSE POSITIVE']\n",
      "Actual Labels: ['CANDIDATE', 'CONFIRMED', 'FALSE POSITIVE', 'FALSE POSITIVE', 'CONFIRMED', 'CONFIRMED', 'CONFIRMED', 'FALSE POSITIVE', 'FALSE POSITIVE', 'FALSE POSITIVE']\n",
      "\n",
      "Accuarcy is:  0.8374215630347975\n"
     ]
    }
   ],
   "source": [
    "# load and score the student's model\n",
    "\n",
    "\n",
    "# update file name with student file\n",
    "filename = 'deep_learning.sav'\n",
    "loaded_model = joblib.load(filename)\n",
    "\n",
    "label_encoder = LabelEncoder()\n",
    "label_encoder.fit(y_test)\n",
    "encoded_y_test = label_encoder.transform(y_test)\n",
    "\n",
    "y_test_categorical = to_categorical(encoded_y_test)\n",
    "\n",
    "encoded_predictions = loaded_model.predict_classes(X_test)\n",
    "prediction_labels = label_encoder.inverse_transform(encoded_predictions)\n",
    "\n",
    "# Take number correct over total to get \"score\" for grading\n",
    "print(f\"Predicted classes: {prediction_labels[:10]}\")\n",
    "print(f\"Actual Labels: {list(y_test[:10])}\")\n",
    "print(\"\\nAccuarcy is: \", accuracy_score(y_test, prediction_labels))"
   ]
  },
  {
   "cell_type": "markdown",
   "metadata": {},
   "source": [
    "### Alternate loading method"
   ]
  },
  {
   "cell_type": "code",
   "execution_count": 23,
   "metadata": {},
   "outputs": [
    {
     "name": "stdout",
     "output_type": "stream",
     "text": [
      "Predicted classes: ['CONFIRMED' 'CONFIRMED' 'FALSE POSITIVE' 'FALSE POSITIVE' 'CONFIRMED'\n",
      " 'CANDIDATE' 'CANDIDATE' 'FALSE POSITIVE' 'FALSE POSITIVE'\n",
      " 'FALSE POSITIVE']\n",
      "Actual Labels: ['CANDIDATE', 'CONFIRMED', 'FALSE POSITIVE', 'FALSE POSITIVE', 'CONFIRMED', 'CONFIRMED', 'CONFIRMED', 'FALSE POSITIVE', 'FALSE POSITIVE', 'FALSE POSITIVE']\n",
      "\n",
      "Accuarcy is:  0.8374215630347975\n"
     ]
    }
   ],
   "source": [
    "load_model = load_model(\"deep_model.h5\")\n",
    "\n",
    "label_encoder = LabelEncoder()\n",
    "label_encoder.fit(y_test)\n",
    "encoded_y_test = label_encoder.transform(y_test)\n",
    "\n",
    "y_test_categorical = to_categorical(encoded_y_test)\n",
    "\n",
    "encoded_predictions = loaded_model.predict_classes(X_test)\n",
    "prediction_labels = label_encoder.inverse_transform(encoded_predictions)\n",
    "\n",
    "# Take number correct over total to get \"score\" for grading\n",
    "print(f\"Predicted classes: {prediction_labels[:10]}\")\n",
    "print(f\"Actual Labels: {list(y_test[:10])}\")\n",
    "print(\"\\nAccuarcy is: \", accuracy_score(y_test, prediction_labels))"
   ]
  },
  {
   "cell_type": "code",
   "execution_count": null,
   "metadata": {},
   "outputs": [],
   "source": []
  }
 ],
 "metadata": {
  "kernelspec": {
   "display_name": "Python 3",
   "language": "python",
   "name": "python3"
  },
  "language_info": {
   "codemirror_mode": {
    "name": "ipython",
    "version": 3
   },
   "file_extension": ".py",
   "mimetype": "text/x-python",
   "name": "python",
   "nbconvert_exporter": "python",
   "pygments_lexer": "ipython3",
   "version": "3.6.2"
  }
 },
 "nbformat": 4,
 "nbformat_minor": 2
}
